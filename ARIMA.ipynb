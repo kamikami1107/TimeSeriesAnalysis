{
 "cells": [
  {
   "cell_type": "markdown",
   "metadata": {},
   "source": [
    "# ARIMAモデル"
   ]
  },
  {
   "cell_type": "markdown",
   "metadata": {},
   "source": [
    "ARIMAはAuto-Regressive Integrated Moving Average Modelの頭文字をとったもの。\n",
    "\n",
    "このモデルは、次の3つの成分から構成される。\n",
    "\n",
    "- AR (Auto-Regressive) component：自己回帰成分\n",
    "- I (Integrated) component：和分成分\n",
    "- MA (Moving Average) component：移動平均成分"
   ]
  },
  {
   "cell_type": "markdown",
   "metadata": {},
   "source": [
    "I (Integrated) 成分で定常化を目指す。モデルを構築するというよりも、前処理と表現したほうがいい。この場合の前処理とは、過去との差分を取り**階差系列**を作ることである。\n",
    "\n",
    "例えば、今日の売上と昨日の売上の差分を求め、その差分を新たな時系列データとする、ということ。その新たなデータを**階差系列**と呼ぶ。上昇傾向や下降傾向などのトレンドがなくなるまで、この前処理を繰り返す。多くの場合、1,２回で十分で、この繰り返し数を、**差分の階数d**で表現します。"
   ]
  },
  {
   "cell_type": "markdown",
   "metadata": {},
   "source": [
    "時系列データは、過去の値に依存する場合がある。この場合は**自己相関がある**ということ。\n",
    "\n",
    "例えば、今日の売上が1日前（1期前）と似たような値を取るケース。\n",
    "\n",
    "AR (Auto-Regressive)で、自己相関をモデル化する。\n",
    "\n",
    "AR (Auto-Regressive)でモデル化するとき、何期前（p）までのデータを用いるかを考えなくてはならない。それを**自己回帰パラメータp**と言う。"
   ]
  },
  {
   "cell_type": "markdown",
   "metadata": {},
   "source": [
    "AR過程は**過去の自分の値そのものと自己相関を持つ確率過程**である。一期前の自分と相関を持つAR(1)過程は以下のように表される。\n",
    "\n",
    "$y_{t} = \\phi_{1}y_{t-1} + \\epsilon_{t}$"
   ]
  },
  {
   "cell_type": "markdown",
   "metadata": {},
   "source": [
    "AR過程の特徴\n",
    "\n",
    "- $y_{t} = \\phi_{1}y_{t-1}+\\phi_{2}y_{t-2}+\\dots\\phi_{p}y_{t-p} + \\epsilon_{t}$\n",
    "- 自己相関は少しずつ減衰する\n",
    "- p時点までと偏自己相関を持ち、p時点以降は０になる\n",
    "- <span style=\"color: red; \">$| \\phi | \\lt 1$の時に定常となる。</span>"
   ]
  },
  {
   "cell_type": "markdown",
   "metadata": {},
   "source": [
    "一番下の特徴はAR過程において重要で、AR過程の全ての係数ϕの絶対値を足した値が1より小さい時に限りAR過程は定常になる。"
   ]
  },
  {
   "cell_type": "markdown",
   "metadata": {},
   "source": [
    "時系列データは、AR (Auto-Regressive)だけで自己相関を十分にモデル化できない。\n",
    "\n",
    "自己相関は、**MA (Moving Average)**でもモデル化することができます。どこまでの過去を考慮するのかを考えなくてはならない。\n",
    "\n",
    "それを**移動平均パラメータq**と言う。移動平均とは、残差の移動平均のことである。"
   ]
  },
  {
   "cell_type": "markdown",
   "metadata": {},
   "source": [
    "MA過程は**過去の自分の誤差と相関を持つ確率過程**である。 一期前の自分と相関のあるMA過程をMA(1)とし、以下のように表される。"
   ]
  },
  {
   "cell_type": "markdown",
   "metadata": {},
   "source": [
    "$y_{t} = \\mu + \\theta_{1}\\epsilon_{t-1}+\\epsilon_{t}$"
   ]
  },
  {
   "cell_type": "markdown",
   "metadata": {},
   "source": [
    "$\\epsilon$は正規ホワイトノイズと仮定することが多い。"
   ]
  },
  {
   "cell_type": "markdown",
   "metadata": {},
   "source": [
    "MA(q)過程の特徴\n",
    "\n",
    "- $y_{t} = \\mu + \\theta_{1}\\epsilon_{t-1} + \\theta_{2}\\epsilon_{t-2} \\dots \\theta_{q}\\epsilon_{t-q} + \\epsilon_{t}$\n",
    "- q時点までと自己相関を持ち、q時点以降は０になる\n",
    "- 偏自己相関は少しずつ減衰する。"
   ]
  },
  {
   "cell_type": "markdown",
   "metadata": {},
   "source": [
    "まとめ\n",
    "\n",
    "ARIMAには3つのパラメーターがある。\n",
    "- 自己回帰パラメータp\n",
    "- 差分の階数d\n",
    "- 移動平均パラメータq"
   ]
  },
  {
   "cell_type": "markdown",
   "metadata": {},
   "source": [
    "どのようにパラメータ設定したかを明示的に示すために、**ARIMA(p,d,q)**という形式で表現する。\n",
    "ARIMAモデルのパラメータは非負の整数（0,1,2...）の値をとり、このパラメータのことを**次数**と表現することも多い。"
   ]
  },
  {
   "cell_type": "markdown",
   "metadata": {},
   "source": [
    "# SARIMAモデル"
   ]
  },
  {
   "cell_type": "markdown",
   "metadata": {},
   "source": [
    "ARIMAは、季節性を効果的に捉えることができないという問題があり、この問題を解決するのが**SARIMA（Seasonal ARIMA）モデル**である。"
   ]
  },
  {
   "cell_type": "markdown",
   "metadata": {},
   "source": [
    "SARIMAモデルのパラメータ\n",
    "- 非季節性パラメータ（p,d,q）\n",
    "- 季節性パラメータ (P, D, Q, m)"
   ]
  },
  {
   "cell_type": "markdown",
   "metadata": {},
   "source": [
    "非季節性パラメータ（p,d,q）は、ARIMAモデルのパラメータと同じである。\n",
    "\n",
    "- p：ARIMA の AR componentの次数（自己回帰パラメータ）と同じ\n",
    "- d：ARIMA の I componentの次数（差分の階数）と同じ\n",
    "- q：ARIMA の MA componentの次数（移動平均パラメータ）と同じ"
   ]
  },
  {
   "cell_type": "markdown",
   "metadata": {},
   "source": [
    "ARIMAモデルと大きく異なるのは、以下の**季節性パラメータ (P, D, Q, m)**の存在である。\n",
    "\n",
    "- m (Seasonal Period)：季節性の周期\n",
    "- P (Seasonal AR component)：季節性の AR componentの次数\n",
    "- D (Seasonal I component)：季節性の I componentの次数\n",
    "- Q (Seasonal MA Component)：季節性のMA componentの次数"
   ]
  },
  {
   "cell_type": "markdown",
   "metadata": {},
   "source": [
    "mは季節性の周期である。<br>\n",
    "例えば、月単位の時系列データに対し12ヶ月周期がある場合、m=12 となる。\n",
    "\n",
    "Pは、季節性のARcomponentの次数である。<br>\n",
    "例えば、月単位の時系列データに対しm=12かつP=2の場合、12ヶ月前と24ヶ月前のデータの値を考慮するということ。\n",
    "\n",
    "Dは、季節性の I componentの次数である。<br>\n",
    "例えば、月単位の時系列データに対しm=12かつD=1の場合、12ヶ月前とデータとの差分をとるということ。\n",
    "\n",
    "Qは、季節性のMA componentの次数である。<br>\n",
    "例えば、月単位の時系列データに対しm=12かつQ=2の場合、12ヶ月前と24ヶ月前の残差を考慮するということ。\n",
    "\n",
    " \n",
    "\n",
    "どのようにパラメータ設定したかを明示的に示すために、**SARIMA(p,d,q)(P, D, Q, m)**もしくは**SARIMA( p,d,q )( P,D,Q )[m]**という形式で表現します。"
   ]
  },
  {
   "cell_type": "code",
   "execution_count": null,
   "metadata": {},
   "outputs": [],
   "source": []
  }
 ],
 "metadata": {
  "kernelspec": {
   "display_name": "Python 3",
   "language": "python",
   "name": "python3"
  },
  "language_info": {
   "codemirror_mode": {
    "name": "ipython",
    "version": 3
   },
   "file_extension": ".py",
   "mimetype": "text/x-python",
   "name": "python",
   "nbconvert_exporter": "python",
   "pygments_lexer": "ipython3",
   "version": "3.7.6"
  }
 },
 "nbformat": 4,
 "nbformat_minor": 4
}
